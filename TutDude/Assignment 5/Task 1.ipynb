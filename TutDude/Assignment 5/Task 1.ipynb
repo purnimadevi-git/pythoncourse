{
 "cells": [
  {
   "cell_type": "code",
   "execution_count": 10,
   "id": "9d845266",
   "metadata": {},
   "outputs": [
    {
     "name": "stdout",
     "output_type": "stream",
     "text": [
      "Student not found\n"
     ]
    }
   ],
   "source": [
    "stud_mark = {\"Anna\":80, \"Jhon\" :90, \"Tom\":85, \"Bunny\":95,\"Robin\":75}\n",
    "stud_name = input(\"Enter student name: \")\n",
    "if stud_name in stud_mark:\n",
    "    print(stud_name, \"has scored:\", stud_mark[stud_name],\"marks\")\n",
    "else:\n",
    "    print(\"Student not found\")"
   ]
  }
 ],
 "metadata": {
  "kernelspec": {
   "display_name": "Python 3",
   "language": "python",
   "name": "python3"
  },
  "language_info": {
   "codemirror_mode": {
    "name": "ipython",
    "version": 3
   },
   "file_extension": ".py",
   "mimetype": "text/x-python",
   "name": "python",
   "nbconvert_exporter": "python",
   "pygments_lexer": "ipython3",
   "version": "3.11.4"
  }
 },
 "nbformat": 4,
 "nbformat_minor": 5
}

{
 "cells": [
  {
   "cell_type": "code",
   "execution_count": 6,
   "id": "50bf9579",
   "metadata": {},
   "outputs": [
    {
     "name": "stdout",
     "output_type": "stream",
     "text": [
      "Original list: [1, 2, 3, 4, 5, 6, 7, 8, 9, 10]\n",
      "extracted list is:  [1, 2, 3, 4, 5]\n",
      "reversed list is:  [5, 4, 3, 2, 1]\n"
     ]
    }
   ],
   "source": [
    "numbers=list(range(1,11))\n",
    "print(\"Original list:\", numbers)\n",
    "extracted_list=numbers[:5]\n",
    "print(\"extracted list is: \",extracted_list)\n",
    "reversed_list=extracted_list[::-1]\n",
    "print(\"reversed list is: \",reversed_list)"
   ]
  }
 ],
 "metadata": {
  "kernelspec": {
   "display_name": "Python 3",
   "language": "python",
   "name": "python3"
  },
  "language_info": {
   "codemirror_mode": {
    "name": "ipython",
    "version": 3
   },
   "file_extension": ".py",
   "mimetype": "text/x-python",
   "name": "python",
   "nbconvert_exporter": "python",
   "pygments_lexer": "ipython3",
   "version": "3.11.4"
  }
 },
 "nbformat": 4,
 "nbformat_minor": 5
}

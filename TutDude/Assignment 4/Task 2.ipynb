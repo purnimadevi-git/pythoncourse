{
 "cells": [
  {
   "cell_type": "code",
   "execution_count": 1,
   "id": "bad7ab15",
   "metadata": {},
   "outputs": [
    {
     "name": "stdout",
     "output_type": "stream",
     "text": [
      "\n",
      "Final content of output.txt:\n",
      "be happy in your life\n",
      "always\n",
      "\n"
     ]
    }
   ],
   "source": [
    "with open(\"output.txt\", \"w\") as file:\n",
    "    user_input = input(\"Enter text to write to file: \")\n",
    "    file.write(user_input + \"\\n\")\n",
    "with open(\"output.txt\", \"a\") as file:\n",
    "    additional_input = input(\"Enter additional text to append: \")\n",
    "    file.write(additional_input + \"\\n\")\n",
    "with open(\"output.txt\", \"r\") as file:\n",
    "    print(\"\\nFinal content of output.txt:\")\n",
    "    print(file.read())"
   ]
  }
 ],
 "metadata": {
  "kernelspec": {
   "display_name": "Python 3",
   "language": "python",
   "name": "python3"
  },
  "language_info": {
   "codemirror_mode": {
    "name": "ipython",
    "version": 3
   },
   "file_extension": ".py",
   "mimetype": "text/x-python",
   "name": "python",
   "nbconvert_exporter": "python",
   "pygments_lexer": "ipython3",
   "version": "3.11.4"
  }
 },
 "nbformat": 4,
 "nbformat_minor": 5
}

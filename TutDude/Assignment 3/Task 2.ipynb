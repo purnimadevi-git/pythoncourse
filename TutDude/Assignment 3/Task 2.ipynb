{
 "cells": [
  {
   "cell_type": "code",
   "execution_count": 1,
   "id": "6b6434ed",
   "metadata": {},
   "outputs": [
    {
     "name": "stdout",
     "output_type": "stream",
     "text": [
      "The square root of 3.0 is 1.7320508075688772\n",
      "The logarithm of 3.0 is 1.0986122886681098\n",
      "The sine of 3.0 is 0.1411200080598672\n"
     ]
    }
   ],
   "source": [
    "import math\n",
    "num=float(input(\"Enter a number: \"))\n",
    "square_root=math.sqrt(num)\n",
    "print(\"The square root of\", num, \"is\", square_root)\n",
    "log=math.log(num)\n",
    "print(\"The logarithm of\", num, \"is\", log)\n",
    "sin=math.sin(num)\n",
    "print(\"The sine of\", num, \"is\", sin)"
   ]
  }
 ],
 "metadata": {
  "kernelspec": {
   "display_name": "Python 3",
   "language": "python",
   "name": "python3"
  },
  "language_info": {
   "codemirror_mode": {
    "name": "ipython",
    "version": 3
   },
   "file_extension": ".py",
   "mimetype": "text/x-python",
   "name": "python",
   "nbconvert_exporter": "python",
   "pygments_lexer": "ipython3",
   "version": "3.11.4"
  }
 },
 "nbformat": 4,
 "nbformat_minor": 5
}
